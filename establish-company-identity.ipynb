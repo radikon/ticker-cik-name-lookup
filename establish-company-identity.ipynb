{
 "cells": [
  {
   "cell_type": "code",
   "execution_count": null,
   "metadata": {},
   "outputs": [],
   "source": [
    "import requests\n",
    "import json\n",
    "from bs4 import BeautifulSoup\n",
    "import os\n",
    "from datetime import date, datetime\n",
    "from fuzzywuzzy import fuzz\n",
    "from fuzzywuzzy import process"
   ]
  },
  {
   "cell_type": "code",
   "execution_count": null,
   "metadata": {},
   "outputs": [],
   "source": [
    "# # Fetch JSON data from the SEC URL\n",
    "# response = requests.get(\"https://www.sec.gov/files/company_tickers.json\")\n",
    "\n",
    "# # Check if the request was successful\n",
    "# if response.status_code == 200:\n",
    "#     company_data = json.loads(response.text)\n",
    "# else:\n",
    "#     print(\"Failed to retrieve company data.\")"
   ]
  },
  {
   "cell_type": "code",
   "execution_count": null,
   "metadata": {},
   "outputs": [],
   "source": [
    "# Load JSON data from the local file\n",
    "with open(\"company_tickers.json\", \"r\") as file:\n",
    "    company_data = json.load(file)"
   ]
  },
  {
   "cell_type": "code",
   "execution_count": null,
   "metadata": {},
   "outputs": [],
   "source": [
    "# Get user input\n",
    "raw_input = input(\"Enter a company name, CIK number, or ticker symbol: \").strip().upper()\n",
    "\n",
    "# Remove leading zeros if the input is all digits\n",
    "if raw_input.isdigit():\n",
    "    raw_input = str(int(raw_input))"
   ]
  },
  {
   "cell_type": "code",
   "execution_count": null,
   "metadata": {},
   "outputs": [],
   "source": [
    "cik_number = None\n",
    "ticker_symbol = None\n",
    "company_name = None"
   ]
  },
  {
   "cell_type": "code",
   "execution_count": null,
   "metadata": {},
   "outputs": [],
   "source": [
    "# Search in company_data based on raw_input\n",
    "for key, value in company_data.items():\n",
    "    if str(value[\"cik_str\"]) == raw_input:\n",
    "        cik_number = value[\"cik_str\"]\n",
    "        ticker_symbol = value[\"ticker\"]\n",
    "        company_name = value[\"title\"]\n",
    "        break\n",
    "    elif value[\"ticker\"] == raw_input:\n",
    "        cik_number = value[\"cik_str\"]\n",
    "        ticker_symbol = value[\"ticker\"]\n",
    "        company_name = value[\"title\"]\n",
    "        break\n",
    "    elif raw_input in value[\"title\"].upper():\n",
    "        print(f\"Match found: {value['title']} (Ticker: {value['ticker']})\")\n",
    "        user_choice = input(\"Enter the number corresponding to your selection: \")\n",
    "        selected_key = int(user_choice)\n",
    "        selected_value = company_data[str(selected_key)]\n",
    "        cik_number = selected_value[\"cik_str\"]\n",
    "        ticker_symbol = selected_value[\"ticker\"]\n",
    "        company_name = selected_value[\"title\"]\n",
    "        break"
   ]
  },
  {
   "cell_type": "code",
   "execution_count": null,
   "metadata": {},
   "outputs": [],
   "source": [
    "# Output the results\n",
    "if cik_number and ticker_symbol and company_name:\n",
    "    print(f\"CIK Number: {cik_number}\")\n",
    "    print(f\"Ticker Symbol: {ticker_symbol}\")\n",
    "    print(f\"Company Name: {company_name}\")\n",
    "else:\n",
    "    print(\"No matching data found. Please confirm the company's registration on sec.gov.\")"
   ]
  }
 ],
 "metadata": {
  "kernelspec": {
   "display_name": "markets",
   "language": "python",
   "name": "python3"
  },
  "language_info": {
   "codemirror_mode": {
    "name": "ipython",
    "version": 3
   },
   "file_extension": ".py",
   "mimetype": "text/x-python",
   "name": "python",
   "nbconvert_exporter": "python",
   "pygments_lexer": "ipython3",
   "version": "3.11.5"
  },
  "orig_nbformat": 4
 },
 "nbformat": 4,
 "nbformat_minor": 2
}
